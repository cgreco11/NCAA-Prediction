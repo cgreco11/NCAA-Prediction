{
 "cells": [
  {
   "cell_type": "code",
   "execution_count": 31,
   "metadata": {},
   "outputs": [],
   "source": [
    "import pandas as pd\n",
    "import numpy as np\n",
    "import sys, re, requests, collections\n",
    "from bs4 import BeautifulSoup\n",
    "\n",
    "pd.set_option('display.max_columns', 500)"
   ]
  },
  {
   "cell_type": "markdown",
   "metadata": {},
   "source": [
    "Files related to teams include:\n",
    "    1) data/teams.csv\n",
    "    2) data/TeamCoaches.csv\n",
    "    3) data/TeamConferences.csv\n",
    "    4) data/TeamSpellings.csv\n",
    "    "
   ]
  },
  {
   "cell_type": "code",
   "execution_count": 13,
   "metadata": {},
   "outputs": [],
   "source": [
    "#Files related to teams\n",
    "\n",
    "team_df = pd.read_csv('data/teams.csv', sep = ',', header = 0)\n",
    "coaches_df = pd.read_csv('data/TeamCoaches.csv', sep = ',', header = 0)\n",
    "conferences_df = pd.read_csv('data/TeamConferences.csv', sep = ',', header = 0)\n",
    "\n",
    "name_mapping = collections.defaultdict(list)\n",
    "with open('data/TeamSpellings.csv', 'rb') as f: #Some weird bytes at beginning of the file. \n",
    "    f.readline()\n",
    "    out_line = [line.strip() for line in f.readlines()]\n",
    "    for i in out_line:\n",
    "        try:\n",
    "            new_line = (i.decode('utf-8').split(\",\"))\n",
    "            name = new_line[0]\n",
    "            teamId = new_line[1]\n",
    "            name_mapping[teamId].append(name)\n",
    "        except UnicodeDecodeError:\n",
    "            pass\n",
    "\n",
    "merged_df = coaches_df.merge(conferences_df, left_on = \"TeamID\", right_on = \"TeamID\")\n",
    "merged_df = merged_df.merge(team_df, left_on = \"TeamID\", right_on = \"TeamID\")"
   ]
  },
  {
   "cell_type": "markdown",
   "metadata": {},
   "source": [
    "The first outside data that I thought would be interesting to include would be the projected mock draft results of the year. Just as in any other sport, a superstar (or 2) can have a significant impact on a team's ability to survive March Madness. \n",
    "\n",
    "I used www.nbadraft.net to get draft results for each year we have data for (1985-present). Since we obviously won't have draft data for 2019, we will use mock draft projections as a good approximation. "
   ]
  },
  {
   "cell_type": "code",
   "execution_count": 38,
   "metadata": {},
   "outputs": [
    {
     "ename": "KeyError",
     "evalue": "\"['ID' 'Team1Seed' 'Team2Seed' 'Team1MO' 'Team2MO' 'ScoreDiff'] not in index\"",
     "output_type": "error",
     "traceback": [
      "\u001b[0;31m---------------------------------------------------------------------------\u001b[0m",
      "\u001b[0;31mKeyError\u001b[0m                                  Traceback (most recent call last)",
      "\u001b[0;32m<ipython-input-38-d9fcb593bb4b>\u001b[0m in \u001b[0;36m<module>\u001b[0;34m\u001b[0m\n\u001b[1;32m     17\u001b[0m        \u001b[0;34m'NumOT'\u001b[0m\u001b[0;34m,\u001b[0m \u001b[0;34m'WFGM'\u001b[0m\u001b[0;34m,\u001b[0m \u001b[0;34m'WFGA'\u001b[0m\u001b[0;34m,\u001b[0m \u001b[0;34m'WFGM3'\u001b[0m\u001b[0;34m,\u001b[0m \u001b[0;34m'WFGA3'\u001b[0m\u001b[0;34m,\u001b[0m \u001b[0;34m'WFTM'\u001b[0m\u001b[0;34m,\u001b[0m \u001b[0;34m'WFTA'\u001b[0m\u001b[0;34m,\u001b[0m \u001b[0;34m'WOR'\u001b[0m\u001b[0;34m,\u001b[0m \u001b[0;34m'WDR'\u001b[0m\u001b[0;34m,\u001b[0m\u001b[0;34m\u001b[0m\u001b[0;34m\u001b[0m\u001b[0m\n\u001b[1;32m     18\u001b[0m        \u001b[0;34m'WAst'\u001b[0m\u001b[0;34m,\u001b[0m \u001b[0;34m'WTO'\u001b[0m\u001b[0;34m,\u001b[0m \u001b[0;34m'WStl'\u001b[0m\u001b[0;34m,\u001b[0m \u001b[0;34m'WBlk'\u001b[0m\u001b[0;34m,\u001b[0m \u001b[0;34m'WPF'\u001b[0m\u001b[0;34m,\u001b[0m \u001b[0;34m'LFGM'\u001b[0m\u001b[0;34m,\u001b[0m \u001b[0;34m'LFGA'\u001b[0m\u001b[0;34m,\u001b[0m \u001b[0;34m'LFGM3'\u001b[0m\u001b[0;34m,\u001b[0m \u001b[0;34m'LFGA3'\u001b[0m\u001b[0;34m,\u001b[0m\u001b[0;34m\u001b[0m\u001b[0;34m\u001b[0m\u001b[0m\n\u001b[0;32m---> 19\u001b[0;31m        'LFTM', 'LFTA', 'LOR', 'LDR', 'LAst', 'LTO', 'LStl', 'LBlk', 'LPF']]\n\u001b[0m\u001b[1;32m     20\u001b[0m \u001b[0my\u001b[0m \u001b[0;34m=\u001b[0m \u001b[0mgames\u001b[0m\u001b[0;34m[\u001b[0m\u001b[0;34m'Pred'\u001b[0m\u001b[0;34m]\u001b[0m\u001b[0;34m\u001b[0m\u001b[0;34m\u001b[0m\u001b[0m\n\u001b[1;32m     21\u001b[0m \u001b[0mX_1\u001b[0m \u001b[0;34m=\u001b[0m \u001b[0mgames\u001b[0m\u001b[0;34m[\u001b[0m\u001b[0;34m[\u001b[0m\u001b[0;34m'ID'\u001b[0m\u001b[0;34m,\u001b[0m\u001b[0;34m'Team1Seed'\u001b[0m\u001b[0;34m,\u001b[0m \u001b[0;34m'Team2Seed'\u001b[0m\u001b[0;34m,\u001b[0m \u001b[0;34m'Team1MO'\u001b[0m\u001b[0;34m,\u001b[0m \u001b[0;34m'Team2MO'\u001b[0m\u001b[0;34m,\u001b[0m \u001b[0;34m'ScoreDiff'\u001b[0m\u001b[0;34m,\u001b[0m\u001b[0;34m'WScore'\u001b[0m\u001b[0;34m,\u001b[0m \u001b[0;34m'LScore'\u001b[0m\u001b[0;34m,\u001b[0m \u001b[0;34m'WLoc'\u001b[0m\u001b[0;34m]\u001b[0m\u001b[0;34m]\u001b[0m\u001b[0;34m\u001b[0m\u001b[0;34m\u001b[0m\u001b[0m\n",
      "\u001b[0;32m~/anaconda3/lib/python3.7/site-packages/pandas/core/frame.py\u001b[0m in \u001b[0;36m__getitem__\u001b[0;34m(self, key)\u001b[0m\n\u001b[1;32m   2680\u001b[0m         \u001b[0;32mif\u001b[0m \u001b[0misinstance\u001b[0m\u001b[0;34m(\u001b[0m\u001b[0mkey\u001b[0m\u001b[0;34m,\u001b[0m \u001b[0;34m(\u001b[0m\u001b[0mSeries\u001b[0m\u001b[0;34m,\u001b[0m \u001b[0mnp\u001b[0m\u001b[0;34m.\u001b[0m\u001b[0mndarray\u001b[0m\u001b[0;34m,\u001b[0m \u001b[0mIndex\u001b[0m\u001b[0;34m,\u001b[0m \u001b[0mlist\u001b[0m\u001b[0;34m)\u001b[0m\u001b[0;34m)\u001b[0m\u001b[0;34m:\u001b[0m\u001b[0;34m\u001b[0m\u001b[0;34m\u001b[0m\u001b[0m\n\u001b[1;32m   2681\u001b[0m             \u001b[0;31m# either boolean or fancy integer index\u001b[0m\u001b[0;34m\u001b[0m\u001b[0;34m\u001b[0m\u001b[0;34m\u001b[0m\u001b[0m\n\u001b[0;32m-> 2682\u001b[0;31m             \u001b[0;32mreturn\u001b[0m \u001b[0mself\u001b[0m\u001b[0;34m.\u001b[0m\u001b[0m_getitem_array\u001b[0m\u001b[0;34m(\u001b[0m\u001b[0mkey\u001b[0m\u001b[0;34m)\u001b[0m\u001b[0;34m\u001b[0m\u001b[0;34m\u001b[0m\u001b[0m\n\u001b[0m\u001b[1;32m   2683\u001b[0m         \u001b[0;32melif\u001b[0m \u001b[0misinstance\u001b[0m\u001b[0;34m(\u001b[0m\u001b[0mkey\u001b[0m\u001b[0;34m,\u001b[0m \u001b[0mDataFrame\u001b[0m\u001b[0;34m)\u001b[0m\u001b[0;34m:\u001b[0m\u001b[0;34m\u001b[0m\u001b[0;34m\u001b[0m\u001b[0m\n\u001b[1;32m   2684\u001b[0m             \u001b[0;32mreturn\u001b[0m \u001b[0mself\u001b[0m\u001b[0;34m.\u001b[0m\u001b[0m_getitem_frame\u001b[0m\u001b[0;34m(\u001b[0m\u001b[0mkey\u001b[0m\u001b[0;34m)\u001b[0m\u001b[0;34m\u001b[0m\u001b[0;34m\u001b[0m\u001b[0m\n",
      "\u001b[0;32m~/anaconda3/lib/python3.7/site-packages/pandas/core/frame.py\u001b[0m in \u001b[0;36m_getitem_array\u001b[0;34m(self, key)\u001b[0m\n\u001b[1;32m   2724\u001b[0m             \u001b[0;32mreturn\u001b[0m \u001b[0mself\u001b[0m\u001b[0;34m.\u001b[0m\u001b[0m_take\u001b[0m\u001b[0;34m(\u001b[0m\u001b[0mindexer\u001b[0m\u001b[0;34m,\u001b[0m \u001b[0maxis\u001b[0m\u001b[0;34m=\u001b[0m\u001b[0;36m0\u001b[0m\u001b[0;34m)\u001b[0m\u001b[0;34m\u001b[0m\u001b[0;34m\u001b[0m\u001b[0m\n\u001b[1;32m   2725\u001b[0m         \u001b[0;32melse\u001b[0m\u001b[0;34m:\u001b[0m\u001b[0;34m\u001b[0m\u001b[0;34m\u001b[0m\u001b[0m\n\u001b[0;32m-> 2726\u001b[0;31m             \u001b[0mindexer\u001b[0m \u001b[0;34m=\u001b[0m \u001b[0mself\u001b[0m\u001b[0;34m.\u001b[0m\u001b[0mloc\u001b[0m\u001b[0;34m.\u001b[0m\u001b[0m_convert_to_indexer\u001b[0m\u001b[0;34m(\u001b[0m\u001b[0mkey\u001b[0m\u001b[0;34m,\u001b[0m \u001b[0maxis\u001b[0m\u001b[0;34m=\u001b[0m\u001b[0;36m1\u001b[0m\u001b[0;34m)\u001b[0m\u001b[0;34m\u001b[0m\u001b[0;34m\u001b[0m\u001b[0m\n\u001b[0m\u001b[1;32m   2727\u001b[0m             \u001b[0;32mreturn\u001b[0m \u001b[0mself\u001b[0m\u001b[0;34m.\u001b[0m\u001b[0m_take\u001b[0m\u001b[0;34m(\u001b[0m\u001b[0mindexer\u001b[0m\u001b[0;34m,\u001b[0m \u001b[0maxis\u001b[0m\u001b[0;34m=\u001b[0m\u001b[0;36m1\u001b[0m\u001b[0;34m)\u001b[0m\u001b[0;34m\u001b[0m\u001b[0;34m\u001b[0m\u001b[0m\n\u001b[1;32m   2728\u001b[0m \u001b[0;34m\u001b[0m\u001b[0m\n",
      "\u001b[0;32m~/anaconda3/lib/python3.7/site-packages/pandas/core/indexing.py\u001b[0m in \u001b[0;36m_convert_to_indexer\u001b[0;34m(self, obj, axis, is_setter)\u001b[0m\n\u001b[1;32m   1325\u001b[0m                 \u001b[0;32mif\u001b[0m \u001b[0mmask\u001b[0m\u001b[0;34m.\u001b[0m\u001b[0many\u001b[0m\u001b[0;34m(\u001b[0m\u001b[0;34m)\u001b[0m\u001b[0;34m:\u001b[0m\u001b[0;34m\u001b[0m\u001b[0;34m\u001b[0m\u001b[0m\n\u001b[1;32m   1326\u001b[0m                     raise KeyError('{mask} not in index'\n\u001b[0;32m-> 1327\u001b[0;31m                                    .format(mask=objarr[mask]))\n\u001b[0m\u001b[1;32m   1328\u001b[0m \u001b[0;34m\u001b[0m\u001b[0m\n\u001b[1;32m   1329\u001b[0m                 \u001b[0;32mreturn\u001b[0m \u001b[0mcom\u001b[0m\u001b[0;34m.\u001b[0m\u001b[0m_values_from_object\u001b[0m\u001b[0;34m(\u001b[0m\u001b[0mindexer\u001b[0m\u001b[0;34m)\u001b[0m\u001b[0;34m\u001b[0m\u001b[0;34m\u001b[0m\u001b[0m\n",
      "\u001b[0;31mKeyError\u001b[0m: \"['ID' 'Team1Seed' 'Team2Seed' 'Team1MO' 'Team2MO' 'ScoreDiff'] not in index\""
     ]
    }
   ],
   "source": [
    "season_cresults = pd.read_csv('data/RegularSeasonCompactResults.csv')\n",
    "season_dresults = pd.read_csv('data/RegularSeasonDetailedResults.csv')\n",
    "tourney_cresults = pd.read_csv('data/NCAATourneyCompactResults.csv')\n",
    "tourney_dresults = pd.read_csv('data/NCAATourneyDetailedResults.csv')\n",
    "slots = pd.read_csv('data/NCAATourneySlots.csv')\n",
    "seeds = pd.read_csv('data/NCAATourneySeeds.csv')\n",
    "\n",
    "games = pd.concat((season_dresults, tourney_dresults), axis = 0, ignore_index = True)\n",
    "games.reset_index(drop = True, inplace = True)\n",
    "\n",
    "games[\"Point Differential\"] = games[\"WScore\"] - games[\"LScore\"]\n",
    "games['Pred'] = games.apply(lambda r: 1. if sorted([r['WTeamID'],r['LTeamID']])[0]==r['WTeamID'] else 0., axis=1)\n",
    "games['Point Differential Normal'] = games.apply(lambda r: r['Point Differential'] * -1 if r['Pred'] == 0. else r['Point Differential'], axis=1)\n",
    "\n",
    "\n",
    "X = games[['ID','Team1Seed', 'Team2Seed', 'Team1MO', 'Team2MO', 'ScoreDiff','WScore', 'LScore', 'WLoc',\n",
    "       'NumOT', 'WFGM', 'WFGA', 'WFGM3', 'WFGA3', 'WFTM', 'WFTA', 'WOR', 'WDR',\n",
    "       'WAst', 'WTO', 'WStl', 'WBlk', 'WPF', 'LFGM', 'LFGA', 'LFGM3', 'LFGA3',\n",
    "       'LFTM', 'LFTA', 'LOR', 'LDR', 'LAst', 'LTO', 'LStl', 'LBlk', 'LPF']]\n",
    "y = games['Pred']\n",
    "X_1 = games[['ID','Team1Seed', 'Team2Seed', 'Team1MO', 'Team2MO', 'ScoreDiff','WScore', 'LScore', 'WLoc']]"
   ]
  },
  {
   "cell_type": "code",
   "execution_count": 75,
   "metadata": {},
   "outputs": [
    {
     "data": {
      "text/plain": [
       "{}"
      ]
     },
     "execution_count": 75,
     "metadata": {},
     "output_type": "execute_result"
    }
   ],
   "source": [
    "def getDraftResults(year, name_mapping):\n",
    "    '''Works for Draft Years 1990-Present'''\n",
    "    year = str(year)\n",
    "    out_dict = {}\n",
    "    url = \"https://www.nbadraft.net/nba_final_draft/\" + year\n",
    "\n",
    "    html = requests.get(url)\n",
    "    content = html.content\n",
    "    soup = BeautifulSoup(content, 'html.parser')\n",
    "    contentTable = soup.find_all('tbody')\n",
    "\n",
    "    for i in contentTable:\n",
    "        rows = i.find_all(\"tr\")\n",
    "        for row in rows:\n",
    "            cols = row.find_all('td')\n",
    "            cols = [ele.text.strip() for ele in cols]\n",
    "            outRow = ([ele for ele in cols if ele]) # Get rid of empty values\n",
    "            try:\n",
    "                pick = outRow[0]\n",
    "                school = outRow[6].lower()\n",
    "                schoolYear = outRow[7]\n",
    "                if schoolYear != 'Intl.':\n",
    "                    out_dict[pick] = name_mapping[school]\n",
    "            except:\n",
    "                pass\n",
    "    return out_dict\n",
    "\n",
    "draftpick_df = pd.DataFrame(merged_df[\"TeamID\"])\n",
    "\n",
    "getDraftResults(1991, name_mapping)"
   ]
  },
  {
   "cell_type": "code",
   "execution_count": 78,
   "metadata": {},
   "outputs": [
    {
     "name": "stdout",
     "output_type": "stream",
     "text": [
      "[]\n"
     ]
    }
   ],
   "source": [
    "url = 'https://stats.nba.com/draft/history/?Season=2018'\n",
    "\n",
    "html = requests.get(url)\n",
    "content = html.content\n",
    "soup = BeautifulSoup(content, 'html.parser')\n",
    "contentTable = soup.find_all('div', {'class' : 'nba-stat-table'})\n",
    "print(contentTable)"
   ]
  }
 ],
 "metadata": {
  "kernelspec": {
   "display_name": "Python 3",
   "language": "python",
   "name": "python3"
  },
  "language_info": {
   "codemirror_mode": {
    "name": "ipython",
    "version": 3
   },
   "file_extension": ".py",
   "mimetype": "text/x-python",
   "name": "python",
   "nbconvert_exporter": "python",
   "pygments_lexer": "ipython3",
   "version": "3.7.1"
  }
 },
 "nbformat": 4,
 "nbformat_minor": 2
}
