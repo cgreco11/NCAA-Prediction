{
 "cells": [
  {
   "cell_type": "code",
   "execution_count": 51,
   "metadata": {},
   "outputs": [],
   "source": [
    "import pandas as pd\n",
    "import numpy as np\n",
    "import sys, re, requests, collections, glob, time \n",
    "import matplotlib.pyplot as plt\n",
    "from sklearn.preprocessing import StandardScaler\n",
    "from sklearn.model_selection import StratifiedKFold\n",
    "from sklearn import linear_model\n",
    "from scipy import stats\n",
    "from sklearn.model_selection import train_test_split, StratifiedKFold, KFold, cross_val_score, GridSearchCV, RepeatedStratifiedKFold\n",
    "from sklearn.preprocessing import StandardScaler\n",
    "import os\n",
    "from xgboost import XGBRegressor\n",
    "import lightgbm as lgb\n",
    "from sklearn import model_selection\n",
    "from sklearn.metrics import accuracy_score, roc_auc_score, log_loss\n",
    "import json\n",
    "pd.set_option('display.max_columns', 500)\n",
    "pd.options.mode.chained_assignment = None\n",
    "%matplotlib inline"
   ]
  },
  {
   "cell_type": "code",
   "execution_count": 55,
   "metadata": {},
   "outputs": [
    {
     "name": "stdout",
     "output_type": "stream",
     "text": [
      "                target  deltaOR  deltaStl  deltaFTP  deltaAst  deltaNeutWin  \\\n",
      "2003_1102_1117       1    -6.78     -1.19     -8.65      1.08          -1.0   \n",
      "2003_1102_1125       1    -6.36     -3.11     -5.05     -3.89          -2.0   \n",
      "2003_1102_1140       0    -6.69     -0.98    -10.16     -0.42          -4.0   \n",
      "2003_1102_1161       1    -6.62      0.63     -4.91     -2.50          -2.0   \n",
      "2003_1102_1204       1    -9.32     -1.42      0.99     -0.62          -1.0   \n",
      "\n",
      "                deltaPF  deltaAwayWin  deltaFGP  deltaWinRank  deltaBlk  \\\n",
      "2003_1102_1117    -2.67           0.0      4.79         -4.70      0.14   \n",
      "2003_1102_1125     0.39          -4.0      1.53        -11.88      0.08   \n",
      "2003_1102_1140    -2.67          -3.0      1.23         95.75     -0.73   \n",
      "2003_1102_1161    -1.82           0.0     -2.56         62.10     -2.44   \n",
      "2003_1102_1204    -0.67          -3.0      2.22        -21.94     -1.90   \n",
      "\n",
      "                deltaFG3  deltaWins  deltaLossRank  deltaDR  deltaGames  \\\n",
      "2003_1102_1117      0.44       -3.0         -71.79    -3.56         2.0   \n",
      "2003_1102_1125      0.80        0.0         -53.48    -6.82         0.0   \n",
      "2003_1102_1140     -0.84        4.0          24.06    -7.60        -3.0   \n",
      "2003_1102_1161      1.25       -1.0           4.86    -6.65        -2.0   \n",
      "2003_1102_1204      2.00       -1.0         -75.98    -6.10         2.0   \n",
      "\n",
      "                deltaAvgScore  deltaUpsets  deltaHomeWins  deltaTo  \n",
      "2003_1102_1117         -13.87         -1.0            2.0    -1.84  \n",
      "2003_1102_1125         -15.21          1.0            2.0    -5.50  \n",
      "2003_1102_1140         -15.20          3.0           -4.0    -2.31  \n",
      "2003_1102_1161         -16.75         -1.0           -3.0    -4.70  \n",
      "2003_1102_1204         -18.33          0.0            3.0    -4.38  \n"
     ]
    }
   ],
   "source": [
    "regSeason = pd.read_csv(\"RegularSeasonResults.csv\", header = 0,index_col = 0)\n",
    "print(regSeason.head())\n",
    "X = regSeason.drop([\"target\"], axis = 1)\n",
    "y = regSeason[[\"target\"]]\n",
    "\n",
    "X_train, X_test, y_train, y_test = train_test_split(X, y, test_size = 0.33, random_state = 50)"
   ]
  },
  {
   "cell_type": "code",
   "execution_count": 56,
   "metadata": {},
   "outputs": [
    {
     "name": "stdout",
     "output_type": "stream",
     "text": [
      "[20:50:28] src/tree/updater_prune.cc:74: tree pruning end, 1 roots, 126 extra nodes, 0 pruned nodes, max_depth=6\n",
      "[20:50:28] src/tree/updater_prune.cc:74: tree pruning end, 1 roots, 126 extra nodes, 0 pruned nodes, max_depth=6\n",
      "[20:50:28] src/tree/updater_prune.cc:74: tree pruning end, 1 roots, 126 extra nodes, 0 pruned nodes, max_depth=6\n",
      "[20:50:28] src/tree/updater_prune.cc:74: tree pruning end, 1 roots, 122 extra nodes, 0 pruned nodes, max_depth=6\n",
      "[20:50:28] src/tree/updater_prune.cc:74: tree pruning end, 1 roots, 124 extra nodes, 0 pruned nodes, max_depth=6\n",
      "[20:50:28] src/tree/updater_prune.cc:74: tree pruning end, 1 roots, 122 extra nodes, 0 pruned nodes, max_depth=6\n",
      "[20:50:28] src/tree/updater_prune.cc:74: tree pruning end, 1 roots, 120 extra nodes, 0 pruned nodes, max_depth=6\n",
      "[20:50:29] src/tree/updater_prune.cc:74: tree pruning end, 1 roots, 122 extra nodes, 0 pruned nodes, max_depth=6\n",
      "[20:50:29] src/tree/updater_prune.cc:74: tree pruning end, 1 roots, 102 extra nodes, 0 pruned nodes, max_depth=6\n",
      "[20:50:29] src/tree/updater_prune.cc:74: tree pruning end, 1 roots, 116 extra nodes, 0 pruned nodes, max_depth=6\n",
      "Accuracy: 77.74%\n",
      "Log Loss: 0.45540164471105\n"
     ]
    },
    {
     "data": {
      "image/png": "[encoded data removed]",
      "text/plain": [
       "<Figure size 720x1440 with 1 Axes>"
      ]
     },
     "metadata": {
      "needs_background": "light"
     },
     "output_type": "display_data"
    },
    {
     "name": "stdout",
     "output_type": "stream",
     "text": [
      "0 target\n",
      "1 deltaOR\n",
      "2 deltaStl\n",
      "3 deltaFTP\n",
      "4 deltaAst\n",
      "5 deltaNeutWin\n",
      "6 deltaPF\n",
      "7 deltaAwayWin\n",
      "8 deltaFGP\n",
      "9 deltaWinRank\n",
      "10 deltaBlk\n",
      "11 deltaFG3\n",
      "12 deltaWins\n",
      "13 deltaLossRank\n",
      "14 deltaDR\n",
      "15 deltaGames\n",
      "16 deltaAvgScore\n",
      "17 deltaUpsets\n",
      "18 deltaHomeWins\n",
      "19 deltaTo\n"
     ]
    }
   ],
   "source": [
    "#XGBoost\n",
    "xgtrain = xgb.DMatrix(X_train.values, y_train.values)\n",
    "xgtest = xgb.DMatrix(X_test.values)\n",
    "\n",
    "params  = {'objective': 'binary:logistic'\n",
    "          } \n",
    "\n",
    "model = xgb.train(params=params, dtrain=xgtrain)\n",
    "preds = model.predict(xgtest)\n",
    "\n",
    "predictions = [round(value) for value in preds]\n",
    "# evaluate predictions\n",
    "accuracy = accuracy_score(y_test, predictions)\n",
    "print(\"Accuracy: %.2f%%\" % (accuracy * 100.0))\n",
    "print(\"Log Loss: {}\".format(log_loss(y_test, preds)))\n",
    "\n",
    "def my_plot_importance(booster, figsize, **kwargs): \n",
    "    from matplotlib import pyplot as plt\n",
    "    from xgboost import plot_importance\n",
    "    fig, ax = plt.subplots(1,1,figsize=figsize)\n",
    "    return plot_importance(booster=booster, ax=ax, **kwargs)\n",
    "\n",
    "my_plot_importance(model, (10,20))\n",
    "plt.show()\n",
    "\n",
    "for idx, i in (enumerate(regSeason)):\n",
    "    print(idx, i)\n"
   ]
  }
 ],
 "metadata": {
  "kernelspec": {
   "display_name": "Python 3",
   "language": "python",
   "name": "python3"
  },
  "language_info": {
   "codemirror_mode": {
    "name": "ipython",
    "version": 3
   },
   "file_extension": ".py",
   "mimetype": "text/x-python",
   "name": "python",
   "nbconvert_exporter": "python",
   "pygments_lexer": "ipython3",
   "version": "3.7.1"
  }
 },
 "nbformat": 4,
 "nbformat_minor": 2
}
