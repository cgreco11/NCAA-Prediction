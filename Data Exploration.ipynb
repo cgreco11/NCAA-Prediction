{
 "cells": [
  {
   "cell_type": "code",
   "execution_count": 1,
   "metadata": {},
   "outputs": [],
   "source": [
    "import pandas as pd\n",
    "import numpy as np\n",
    "import sys, re, requests, collections, glob, time \n",
    "import matplotlib.pyplot as plt\n",
    "from sklearn.preprocessing import StandardScaler\n",
    "from sklearn.model_selection import StratifiedKFold\n",
    "from sklearn import linear_model\n",
    "from scipy import stats\n",
    "from sklearn.model_selection import train_test_split, StratifiedKFold, KFold, cross_val_score, GridSearchCV, RepeatedStratifiedKFold\n",
    "from sklearn.preprocessing import StandardScaler\n",
    "import os\n",
    "import xgboost as xgb\n",
    "import lightgbm as lgb\n",
    "from sklearn import model_selection\n",
    "from sklearn.metrics import accuracy_score, roc_auc_score, log_loss\n",
    "import json\n",
    "pd.set_option('display.max_columns', 500)\n",
    "pd.options.mode.chained_assignment = None\n",
    "%matplotlib inline"
   ]
  },
  {
   "cell_type": "code",
   "execution_count": 45,
   "metadata": {},
   "outputs": [
    {
     "name": "stdout",
     "output_type": "stream",
     "text": [
      "       WTeamID  LTeamID  Season\n",
      "74048     1104     1328    2003\n",
      "74049     1272     1393    2003\n",
      "74050     1266     1437    2003\n",
      "74051     1296     1457    2003\n",
      "74052     1400     1208    2003\n"
     ]
    }
   ],
   "source": [
    "\n",
    "seasonAverages = pd.read_csv('data/SeasonAverages.csv', header = 0, index_col = 0)\n",
    "\n",
    "results_df = pd.read_csv(\"data/RegularSeasonCompactResults.csv\", header = 0)\n",
    "results_df = results_df[results_df[\"Season\"] >= 2003][[\"WTeamID\", \"LTeamID\", \"Season\"]]\n",
    "\n",
    "print(results_df.head())\n"
   ]
  }
 ],
 "metadata": {
  "kernelspec": {
   "display_name": "Python 3",
   "language": "python",
   "name": "python3"
  },
  "language_info": {
   "codemirror_mode": {
    "name": "ipython",
    "version": 3
   },
   "file_extension": ".py",
   "mimetype": "text/x-python",
   "name": "python",
   "nbconvert_exporter": "python",
   "pygments_lexer": "ipython3",
   "version": "3.6.8"
  }
 },
 "nbformat": 4,
 "nbformat_minor": 2
}
