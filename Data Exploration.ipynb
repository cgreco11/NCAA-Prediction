{
 "cells": [
  {
   "cell_type": "code",
   "execution_count": 134,
   "metadata": {},
   "outputs": [],
   "source": [
    "import pandas as pd\n",
    "import numpy as np\n",
    "import sys, re, requests, collections, glob, time \n",
    "import matplotlib.pyplot as plt\n",
    "from sklearn.preprocessing import StandardScaler\n",
    "from sklearn.model_selection import StratifiedKFold\n",
    "from sklearn import linear_model\n",
    "from scipy import stats\n",
    "from sklearn.model_selection import train_test_split, StratifiedKFold, KFold, cross_val_score, GridSearchCV, RepeatedStratifiedKFold, RandomizedSearchCV\n",
    "from sklearn.preprocessing import StandardScaler\n",
    "import os\n",
    "import xgboost as xgb\n",
    "from xgboost import XGBClassifier\n",
    "import lightgbm as lgb\n",
    "from sklearn import model_selection\n",
    "from sklearn.metrics import accuracy_score, roc_auc_score, log_loss, confusion_matrix\n",
    "import json\n",
    "pd.set_option('display.max_columns', 500)\n",
    "pd.options.mode.chained_assignment = None\n",
    "%matplotlib inline"
   ]
  },
  {
   "cell_type": "code",
   "execution_count": 171,
   "metadata": {
    "scrolled": true
   },
   "outputs": [
    {
     "name": "stdout",
     "output_type": "stream",
     "text": [
      "                target  deltaOR  deltaStl  deltaFTP  deltaAst  deltaNeutWin  \\\n",
      "2003_1102_1117       1    -6.78     -1.19     -8.65      1.08          -1.0   \n",
      "2003_1102_1125       1    -6.36     -3.11     -5.05     -3.89          -2.0   \n",
      "2003_1102_1140       0    -6.69     -0.98    -10.16     -0.42          -4.0   \n",
      "2003_1102_1161       1    -6.62      0.63     -4.91     -2.50          -2.0   \n",
      "2003_1102_1204       1    -9.32     -1.42      0.99     -0.62          -1.0   \n",
      "\n",
      "                deltaPF  deltaAwayWin  deltaFGP  deltaWinRank  deltaBlk  \\\n",
      "2003_1102_1117    -2.67           0.0      4.79         -4.70      0.14   \n",
      "2003_1102_1125     0.39          -4.0      1.53        -11.88      0.08   \n",
      "2003_1102_1140    -2.67          -3.0      1.23         95.75     -0.73   \n",
      "2003_1102_1161    -1.82           0.0     -2.56         62.10     -2.44   \n",
      "2003_1102_1204    -0.67          -3.0      2.22        -21.94     -1.90   \n",
      "\n",
      "                deltaFG3  deltaWins  deltaLossRank  deltaDR  deltaGames  \\\n",
      "2003_1102_1117      0.44       -3.0         -71.79    -3.56         2.0   \n",
      "2003_1102_1125      0.80        0.0         -53.48    -6.82         0.0   \n",
      "2003_1102_1140     -0.84        4.0          24.06    -7.60        -3.0   \n",
      "2003_1102_1161      1.25       -1.0           4.86    -6.65        -2.0   \n",
      "2003_1102_1204      2.00       -1.0         -75.98    -6.10         2.0   \n",
      "\n",
      "                deltaAvgScore  deltaUpsets  deltaHomeWins  deltaTo  \n",
      "2003_1102_1117         -13.87         -1.0            2.0    -1.84  \n",
      "2003_1102_1125         -15.21          1.0            2.0    -5.50  \n",
      "2003_1102_1140         -15.20          3.0           -4.0    -2.31  \n",
      "2003_1102_1161         -16.75         -1.0           -3.0    -4.70  \n",
      "2003_1102_1204         -18.33          0.0            3.0    -4.38  \n"
     ]
    }
   ],
   "source": [
    "#Testing and Training on Regular Season Results Only\n",
    "\n",
    "regSeason = pd.read_csv(\"RegularSeasonResults.csv\", header = 0,index_col = 0)\n",
    "print(regSeason.head())\n",
    "X = regSeason.drop([\"target\", \"deltaWins\"], axis = 1)\n",
    "y = regSeason[[\"target\"]]\n",
    "\n",
    "X_train, X_test, y_train, y_test = train_test_split(X, y, test_size = 0.33, random_state = 50)"
   ]
  },
  {
   "cell_type": "code",
   "execution_count": 179,
   "metadata": {},
   "outputs": [
    {
     "name": "stdout",
     "output_type": "stream",
     "text": [
      "Fitting 5 folds for each of 50 candidates, totalling 250 fits\n"
     ]
    },
    {
     "name": "stderr",
     "output_type": "stream",
     "text": [
      "[Parallel(n_jobs=2)]: Using backend LokyBackend with 2 concurrent workers.\n",
      "[Parallel(n_jobs=2)]: Done  28 tasks      | elapsed:  2.1min\n",
      "[Parallel(n_jobs=2)]: Done 124 tasks      | elapsed:  8.9min\n",
      "[Parallel(n_jobs=2)]: Done 250 out of 250 | elapsed: 16.0min finished\n"
     ]
    },
    {
     "data": {
      "text/plain": [
       "RandomizedSearchCV(cv=<generator object _BaseKFold.split at 0x7f9b05384990>,\n",
       "          error_score='raise-deprecating',\n",
       "          estimator=XGBClassifier(base_score=0.5, booster='gbtree', colsample_bylevel=1,\n",
       "       colsample_bytree=1, gamma=0, learning_rate=0.1, max_delta_step=0,\n",
       "       max_depth=3, min_child_weight=1, missing=None, n_estimators=100,\n",
       "       n_jobs=1, nthread=1, objective='binary:logistic', random_state=0,\n",
       "       reg_alpha=0, reg_lambda=1, scale_pos_weight=1, seed=27, silent=True,\n",
       "       subsample=1),\n",
       "          fit_params=None, iid='warn', n_iter=50, n_jobs=2,\n",
       "          param_distributions={'learning_rate': [0.01, 0.05, 0.1, 0.2, 0.3], 'min_child_weight': [1, 5, 10], 'gamma': [0, 0.5, 1, 1.5, 2, 5], 'subsample': [0.6, 0.7, 0.8, 0.9], 'colsample_bytree': [0.4, 0.6, 0.8, 1.0], 'max_depth': [3, 4, 5, 6, 7], 'n_estimators': [50, 100, 150, 200, 250, 300]},\n",
       "          pre_dispatch='2*n_jobs', random_state=1001, refit=True,\n",
       "          return_train_score='warn', scoring='neg_log_loss', verbose=3)"
      ]
     },
     "execution_count": 179,
     "metadata": {},
     "output_type": "execute_result"
    }
   ],
   "source": [
    "#Testing Parameters  \n",
    "xgb = XGBClassifier(\n",
    "    objective='binary:logistic',\n",
    "    silent=True,\n",
    "    nthread=1,\n",
    "    seed = 27)\n",
    "\n",
    "params = {\n",
    "        'learning_rate' : [0.01, 0.05, 0.1, 0.2, 0.3], #eta: Step size shrinkage used in update to prevents overfitting.\n",
    "        'min_child_weight': [1, 5, 10], # If the tree partition step results in a leaf node with the sum of instance weight less than min_child_weight, then the building process will give up further partitioning.\n",
    "        'gamma': [0, 0.5, 1, 1.5, 2, 5], #min_split_loss: Minimum loss reduction required to make a further partition on a leaf node of the tree.\n",
    "        'subsample': [0.6, 0.7, 0.8, 0.9], #Subsample ratio of the training instances. Setting it to 0.5 means that XGBoost would randomly sample half of the training data prior to growing trees. and this will prevent overfitting. \n",
    "        'colsample_bytree': [0.4, 0.6, 0.8, 1.0], #subsample ratio of columns when constructing each tree. Subsampling occurs once for every tree constructed.\n",
    "        'max_depth': [3, 4, 5, 6, 7], #Maximum depth of a tree. Increasing this value will make the model more complex and more likely to overfit.\n",
    "        'n_estimators' : [50,100,150,200,250,300] # Number of trees used\n",
    "        }\n",
    "\n",
    "folds = 5\n",
    "param_comb = 50\n",
    "skf = StratifiedKFold(n_splits=folds, shuffle = True, random_state = 1001)\n",
    "random_search = RandomizedSearchCV(xgb,\n",
    "                                   param_distributions=params,\n",
    "                                   n_iter=param_comb,\n",
    "                                   scoring='neg_log_loss',\n",
    "                                   n_jobs=2,\n",
    "                                   cv=skf.split(X_train,y_train),\n",
    "                                   verbose=3,\n",
    "                                   random_state=1001)\n",
    "\n",
    "random_search.fit(X_train, y_train.values.ravel())\n"
   ]
  },
  {
   "cell_type": "code",
   "execution_count": 174,
   "metadata": {},
   "outputs": [
    {
     "data": {
      "image/png": "[encoded data removed]",
      "text/plain": [
       "<Figure size 720x1440 with 1 Axes>"
      ]
     },
     "metadata": {
      "needs_background": "light"
     },
     "output_type": "display_data"
    },
    {
     "name": "stdout",
     "output_type": "stream",
     "text": [
      "\n",
      " Best score for 5-fold search with 50 parameter combinations:\n",
      "-0.4601663236990827\n",
      "\n",
      " Best hyperparameters:\n",
      "{'subsample': 0.8, 'n_estimators': 200, 'min_child_weight': 5, 'max_depth': 3, 'learning_rate': 0.05, 'gamma': 5, 'colsample_bytree': 0.6}\n"
     ]
    }
   ],
   "source": [
    "my_plot_importance(random_search.best_estimator_, (10,20))\n",
    "plt.show()\n",
    "\n",
    "print('\\n Best score for %d-fold search with %d parameter combinations:' % (folds, param_comb))\n",
    "print(random_search.best_score_)\n",
    "print('\\n Best hyperparameters:')\n",
    "print(random_search.best_params_)\n",
    "#results = pd.DataFrame(random_search.cv_results_)"
   ]
  },
  {
   "cell_type": "code",
   "execution_count": 175,
   "metadata": {
    "scrolled": true
   },
   "outputs": [
    {
     "name": "stdout",
     "output_type": "stream",
     "text": [
      "Accuracy: 77.45%\n",
      "Log Loss: 0.4517522417959046\n"
     ]
    }
   ],
   "source": [
    "#Results of our Randomized Grid Search\n",
    "preds = random_search.predict_proba(X_test)\n",
    "\n",
    "predictions = [round(value) for value in preds[:,1]]\n",
    "# evaluate predictions\n",
    "accuracy = accuracy_score(y_test, predictions)\n",
    "print(\"Accuracy: %.2f%%\" % (accuracy * 100.0))\n",
    "print(\"Log Loss: {}\".format(log_loss(y_test, preds)))\n",
    "\n",
    "\n",
    "#results_df.to_csv('submission-random-grid-search-xgb-porto-01.csv', index=False)"
   ]
  },
  {
   "cell_type": "code",
   "execution_count": null,
   "metadata": {},
   "outputs": [
    {
     "name": "stdout",
     "output_type": "stream",
     "text": [
      "[2, 4, 6, 8]\n",
      "Fitting 10 folds for each of 20 candidates, totalling 200 fits\n"
     ]
    },
    {
     "name": "stderr",
     "output_type": "stream",
     "text": [
      "[Parallel(n_jobs=-1)]: Using backend LokyBackend with 2 concurrent workers.\n",
      "[Parallel(n_jobs=-1)]: Done  46 tasks      | elapsed:  1.8min\n"
     ]
    }
   ],
   "source": [
    "# grid search\n",
    "model = XGBClassifier()\n",
    "n_estimators = [50, 100, 150, 200, 250]\n",
    "max_depth = [2, 4, 6, 8]\n",
    "print(max_depth)\n",
    "param_grid = dict(max_depth=max_depth, n_estimators=n_estimators)\n",
    "kfold = StratifiedKFold(n_splits=10, shuffle=True, random_state=7)\n",
    "grid_search = GridSearchCV(model, param_grid, scoring=\"neg_log_loss\", n_jobs=-1, cv=kfold, verbose=1)\n",
    "grid_result = grid_search.fit(X, y.values.ravel())\n",
    "# summarize results\n",
    "print(\"Best: %f using %s\" % (grid_result.best_score_, grid_result.best_params_))\n",
    "means = grid_result.cv_results_['mean_test_score']\n",
    "stds = grid_result.cv_results_['std_test_score']\n",
    "params = grid_result.cv_results_['params']\n",
    "for mean, stdev, param in zip(means, stds, params):\n",
    "    print(\"%f (%f) with: %r\" % (mean, stdev, param))\n",
    "# plot results\n",
    "scores = numpy.array(means).reshape(len(max_depth), len(n_estimators))\n",
    "for i, value in enumerate(max_depth):\n",
    "    plt.plot(n_estimators, scores[i], label='depth: ' + str(value))\n",
    "plt.legend()\n",
    "plt.xlabel('n_estimators')\n",
    "plt.ylabel('Log Loss')\n"
   ]
  },
  {
   "cell_type": "code",
   "execution_count": 83,
   "metadata": {},
   "outputs": [],
   "source": [
    "teamNames = pd.read_csv(\"data/Teams.csv\", header = 0)\n",
    "teamNameMap = dict(zip(teamNames[\"TeamName\"].str.lower(), teamNames[\"TeamID\"])) \n",
    "\n",
    "altTeamNames = pd.read_csv(\"data/TeamSpellings.csv\", header = 0, encoding = 'latin-1')\n",
    "altTeamNameMap = dict(zip(altTeamNames['TeamNameSpelling'].str.lower(), teamNames[\"TeamID\"]))\n",
    "\n",
    "finalTeamNameMap = {**teamNameMap, **altTeamNameMap}\n",
    "\n"
   ]
  },
  {
   "cell_type": "code",
   "execution_count": 177,
   "metadata": {},
   "outputs": [
    {
     "name": "stdout",
     "output_type": "stream",
     "text": [
      "1437 1314\n",
      "Villanova has a 50.69% chance to beat North Carolina\n"
     ]
    }
   ],
   "source": [
    "seasonAverages = pd.read_csv(\"data/SeasonAverages.csv\", header = 0, index_col = 0)\n",
    "\n",
    "def compareMatchups(season_team1_team2, regSeasonDf):\n",
    "    season, team1, team2 = season_team1_team2.split(\"_\")\n",
    "    team1_idx = str(season) + \"_\" + str(team1)\n",
    "    team2_idx = str(season) + \"_\" + str(team2)\n",
    "    team1_dict = regSeasonDf.loc[team1_idx].to_dict()\n",
    "    team2_dict = regSeasonDf.loc[team2_idx].to_dict()\n",
    "    \n",
    "    deltaOR = team1_dict['avgOR'] - team2_dict['avgOR']\n",
    "    deltaStl = team1_dict['avgStl'] - team2_dict['avgStl']\n",
    "    deltaFTP = team1_dict['Avg FT%'] - team2_dict['Avg FT%']\n",
    "    deltaAst = team1_dict['avgAst'] - team2_dict['avgAst']\n",
    "    deltaNeutWin = team1_dict['Neutral Win'] - team2_dict['Neutral Win']\n",
    "    deltaPF = team1_dict['avgPf'] - team2_dict[\"avgPf\"]\n",
    "    deltaAwayWin = team1_dict['Away Win'] - team2_dict['Away Win']\n",
    "    deltaFGP = team1_dict['Avg FG%'] - team2_dict[\"Avg FG%\"]\n",
    "    deltaWinRank = team1_dict[\"AvgWinRank\"] - team2_dict['AvgWinRank']\n",
    "    deltaBlk = team1_dict['avgBlk'] - team2_dict['avgBlk']\n",
    "    deltaFG3 = team1_dict['Avg FG3%'] - team2_dict[\"Avg FG3%\"]\n",
    "    deltaWins = team1_dict['Wins'] - team2_dict['Losses']\n",
    "    deltaLossRank = team1_dict[\"AvgLossRank\"] - team2_dict[\"AvgLossRank\"]\n",
    "    deltaDR = team1_dict['avgDr'] - team2_dict['avgDr']\n",
    "    deltaGames = team1_dict['Games'] - team2_dict['Games']\n",
    "    deltaAvgScore = team1_dict['avgScore'] - team2_dict[\"avgScore\"]\n",
    "    deltaUpsets = team1_dict[\"Upsets\"] - team2_dict[\"Upsets\"]\n",
    "    deltaHomeWins = team1_dict[\"Home Win\"] - team2_dict[\"Home Win\"]\n",
    "    deltaTo = team1_dict[\"AvgTO\"] - team2_dict[\"AvgTO\"]\n",
    "    \n",
    "    out_dict = {\n",
    "        'deltaOR' : round(deltaOR,2),\n",
    "        'deltaStl' : round(deltaStl,2),\n",
    "        'deltaFTP' : round(deltaFTP,2),\n",
    "        'deltaAst' : round(deltaAst,2),\n",
    "        'deltaNeutWin' : round(deltaNeutWin,2),\n",
    "        'deltaPF' : round(deltaPF,2),\n",
    "        'deltaAwayWin' : round(deltaAwayWin,2),\n",
    "        'deltaFGP' : round(deltaFGP,2),\n",
    "        'deltaWinRank' : round(deltaWinRank,2),\n",
    "        'deltaBlk' : round(deltaBlk,2),\n",
    "        'deltaFG3' : round(deltaFG3,2),\n",
    "        #'deltaWins' : round(deltaWins,2),\n",
    "        'deltaLossRank' : round(deltaLossRank,2),\n",
    "        'deltaDR' : round(deltaDR,2),\n",
    "        'deltaGames' : round(deltaGames,2),\n",
    "        'deltaAvgScore' : round(deltaAvgScore,2),\n",
    "        'deltaUpsets' : round(deltaUpsets,2),\n",
    "        'deltaHomeWins' : round(deltaHomeWins,2),\n",
    "        'deltaTo' : round(deltaTo,2)\n",
    "    }\n",
    "    return out_dict\n",
    "\n",
    "submissionDf = pd.read_csv(\"SampleSubmissionStage1.csv\", header = 0)\n",
    "\n",
    "mapping_dict = {}\n",
    "for idx, row in submissionDf.iterrows():\n",
    "    comparison = row[\"ID\"]\n",
    "    mapping_dict[comparison] = compareMatchups(comparison, seasonAverages)\n",
    "\n",
    "\n",
    "def checkMatchupByName(season, team1, team2, teamNameMap, seasonAverages, model):\n",
    "    team1_id = teamNameMap[team1.lower()]\n",
    "    team2_id = teamNameMap[team2.lower()]\n",
    "    print(team1_id, team2_id)\n",
    "    search_term = str(season) + \"_\" + str(team1_id) + \"_\" + str(team2_id)\n",
    "    \n",
    "    outResultDict = {search_term: compareMatchups(search_term, seasonAverages)}\n",
    "    #testMatrix = xgb.DMatrix(pd.DataFrame.from_dict(outResultDict, orient = 'index').values)\n",
    "    #pred = model.predict(testMatrix)\n",
    "    testDf = pd.DataFrame.from_dict(outResultDict, orient = 'index')\n",
    "    pred = model.predict_proba(testDf)[:,1] # pred[:,0] is the reverse probability\n",
    "    print(\"{} has a {}% chance to beat {}\".format(team1, round(pred[0] * 100,2), team2))\n",
    "\n",
    "\n",
    "checkMatchupByName(2016, \"Villanova\", \"North Carolina\", finalTeamNameMap, seasonAverages, random_search)\n",
    "    "
   ]
  },
  {
   "cell_type": "code",
   "execution_count": 178,
   "metadata": {},
   "outputs": [],
   "source": [
    "comparisonDf = pd.DataFrame.from_dict(mapping_dict, orient = 'index')\n",
    "submitPreds = random_search.predict_proba(comparisonDf)[:,1]\n",
    "\n",
    "\n",
    "predDict = dict(zip(comparisonDf.index, submitPreds))\n",
    "\n",
    "with open('SubmissionStage1.csv', 'w') as f:\n",
    "    f.write(\"ID,Pred\\n\")\n",
    "    for k,v in predDict.items():\n",
    "        f.write(str(k) + \",\" + str(v) + \"\\n\")\n"
   ]
  }
 ],
 "metadata": {
  "kernelspec": {
   "display_name": "Python 3",
   "language": "python",
   "name": "python3"
  },
  "language_info": {
   "codemirror_mode": {
    "name": "ipython",
    "version": 3
   },
   "file_extension": ".py",
   "mimetype": "text/x-python",
   "name": "python",
   "nbconvert_exporter": "python",
   "pygments_lexer": "ipython3",
   "version": "3.6.8"
  }
 },
 "nbformat": 4,
 "nbformat_minor": 2
}
